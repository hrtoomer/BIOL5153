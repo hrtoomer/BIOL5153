{
 "cells": [
  {
   "cell_type": "markdown",
   "metadata": {
    "collapsed": true
   },
   "source": [
    "# Hallie Toomer\n",
    "\n",
    "## Exercises Chapter 2"
   ]
  },
  {
   "cell_type": "code",
   "execution_count": 1,
   "metadata": {},
   "outputs": [
    {
     "name": "stdout",
     "output_type": "stream",
     "text": [
      "length:54\n",
      "A count:16\n",
      "T count:21\n",
      "AT content is 0.6851851851851852\n"
     ]
    }
   ],
   "source": [
    "# Calculating AT Content\n",
    "\n",
    "dna= 'ACTGATCGATTACGTATAGTATTTGCTATCATACATATATATCGATGCGTTCAT'\n",
    "length = len(dna)\n",
    "a_count=dna.count('A')\n",
    "t_count=dna.count('T')\n",
    "at_content=(a_count + t_count) / length\n",
    "\n",
    "print('length:'+ str(length))\n",
    "print('A count:' + str(a_count))\n",
    "print('T count:' + str(t_count))\n",
    "print('AT content is ' + str(at_content))"
   ]
  },
  {
   "cell_type": "code",
   "execution_count": 2,
   "metadata": {},
   "outputs": [
    {
     "name": "stdout",
     "output_type": "stream",
     "text": [
      "tCTGtTCGtTTtCGTtTtGTtTTTGCTtTCtTtCtTtTtTtTCGtTGCGTTCtT\n",
      "tCaGtaCGtaatCGatatGataaaGCataCtatCtatatataCGtaGCGaaCta\n",
      "tgaGtagGtaatgGatatGataaaGgatagtatgtatatatagGtaGgGaagta\n",
      "tgactagctaatgcatatcataaacgatagtatgtatatatagctacgcaagta\n",
      "tgactagctaatgcatatcataaacgatagtatgtatatatagctacgcaagta\n",
      "TGACTAGCTAATGCATATCATAAACGATAGTATGTATATATAGCTACGCAAGTA\n"
     ]
    }
   ],
   "source": [
    "# Complementing DNA\n",
    "\n",
    "# replace A with T\n",
    "rep1=dna.replace('A', 't')\n",
    "print(rep1)\n",
    "\n",
    "# replace T with A\n",
    "rep2=rep1.replace('T', 'a')\n",
    "print(rep2)\n",
    "\n",
    "# replace C with G\n",
    "rep3=rep2.replace('C', 'g')\n",
    "print(rep3)\n",
    "\n",
    "# replace G with C\n",
    "rep4=rep3.replace('G', 'c')\n",
    "print(rep4)\n",
    "\n",
    "# print result\n",
    "\n",
    "print(rep4)\n",
    "print(rep4.upper())"
   ]
  },
  {
   "cell_type": "code",
   "execution_count": 3,
   "metadata": {},
   "outputs": [
    {
     "name": "stdout",
     "output_type": "stream",
     "text": [
      "length of fragment one is 0\n",
      "length of fragment two is 54\n"
     ]
    }
   ],
   "source": [
    "# Restriction fragment lengths\n",
    "\n",
    "frag1=dna.find('GAATTCT') + 1\n",
    "frag2=len(dna) - frag1\n",
    "print('length of fragment one is ' + str(frag1))\n",
    "print('length of fragment two is ' + str(frag2))"
   ]
  },
  {
   "cell_type": "code",
   "execution_count": 7,
   "metadata": {},
   "outputs": [
    {
     "name": "stdout",
     "output_type": "stream",
     "text": [
      "ATCGATCGATCGATCGACTGACTAGTCATAGCTATGCATGTAGCTACTCGATCGATCGATCGATCATCGATCGATATCGATGCATCGACTACTAT\n"
     ]
    }
   ],
   "source": [
    "# Splicing out introns, Part 1\n",
    "\n",
    "dna='ATCGATCGATCGATCGACTGACTAGTCATAGCTATGCATGTAGCTACTCGATCGATCGATCGATCGATCGATCGATCGATCGATCATGCTATCATCGATCGATATCGATGCATCGACTACTAT'\n",
    "exon1 = dna[0:62]\n",
    "exon2 = dna[90:10000]\n",
    "print(exon1 + exon2)"
   ]
  },
  {
   "cell_type": "code",
   "execution_count": 8,
   "metadata": {},
   "outputs": [
    {
     "name": "stdout",
     "output_type": "stream",
     "text": [
      "77.23577235772358\n"
     ]
    }
   ],
   "source": [
    "# Splicing out introns, Part 2\n",
    "\n",
    "exon1 = dna[0:62]\n",
    "exon2 = dna[90:10000]\n",
    "coding_length=len(exon1 + exon2)\n",
    "total_length= len(dna)\n",
    "print(100 * coding_length / total_length)"
   ]
  },
  {
   "cell_type": "code",
   "execution_count": 10,
   "metadata": {},
   "outputs": [
    {
     "name": "stdout",
     "output_type": "stream",
     "text": [
      "ATCGATCGATCGATCGACTGACTAGTCATAGCTATGCATGTAGCTACTCGATCGATCGATCGatcgatcgatcgatcgatcgatcatgctATCATCGATCGATATCGATGCATCGACTACTAT\n"
     ]
    }
   ],
   "source": [
    "# Splicing out introns, Part 3\n",
    "\n",
    "exon1=dna[0:62]\n",
    "intron=dna[62:90].lower()\n",
    "exon2=dna[90:10000]\n",
    "print(exon1 + intron.lower() + exon2)"
   ]
  },
  {
   "cell_type": "code",
   "execution_count": null,
   "metadata": {
    "collapsed": true
   },
   "outputs": [],
   "source": []
  }
 ],
 "metadata": {
  "kernelspec": {
   "display_name": "Python 3",
   "language": "python",
   "name": "python3"
  },
  "language_info": {
   "codemirror_mode": {
    "name": "ipython",
    "version": 3
   },
   "file_extension": ".py",
   "mimetype": "text/x-python",
   "name": "python",
   "nbconvert_exporter": "python",
   "pygments_lexer": "ipython3",
   "version": "3.6.1"
  }
 },
 "nbformat": 4,
 "nbformat_minor": 2
}
