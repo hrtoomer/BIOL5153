{
 "cells": [
  {
   "cell_type": "code",
   "execution_count": null,
   "metadata": {
    "collapsed": true
   },
   "outputs": [],
   "source": [
    "import argparse\n",
    "\n",
    "#create an ArgumentParser object ('parser') that will hold all the information necessary to parse the command line\n",
    "parser = argparse.ARgumentParser(description = 'generates a PBS job script for the AHPCC Trestles Cluster')\n",
    "\n",
    "# add positional arguments, i.e. the required input\n",
    "parser.add_argument('job_name', help='the name of the job')\n",
    "\n",
    "# add optional arguments\n",
    "parser.add_argument('-q-','--queue', help='name of the Trestles queue (default=q06h32c)', default='q06h32c')\n",
    "parser.add_argument('-p', '--ppn', help='number of processors', default=)\n",
    "parser.add_argument('-w', '--walltime', help='amount of time needed for job', default=)\n",
    "\n",
    "# parse the command line arguments\n",
    "args = parser.parse_args()\n",
    "\n",
    "job_name= 'alicia'\n",
    "queue = 'q06h32c'\n",
    "ppn = '16'\n",
    "walltime = '6'\n",
    "\n",
    "print(\"#PBS -q\", args.job_name)\n",
    "print('#PBS -q', args.queue)\n",
    "print(\"#PBS -j oe\")\n",
    "print(\"#PBS -m abe\")\n",
    "print(\"#PBS -M hramser@uark.edu\")\n",
    "print(\"#PBS -o\", args.job_name + \".$PBS_JOBID\")\n",
    "print(\"#PBS -l\",\"nodes=1:ppn=\" + str(args.ppn))\n",
    "print(\"#PBS -l walltime=\" + args.walltime + \":00:00\")\n",
    "      \n",
    "print('cd $PBS_O_WORKDIR')\n",
    "print()      \n",
    "\n",
    "cd $PBS_O_WORKDIR\n",
    "print('module purge')\n",
    "print('module load python/3.6.9-anaconda')\n"
   ]
  }
 ],
 "metadata": {
  "kernelspec": {
   "display_name": "Python 3",
   "language": "python",
   "name": "python3"
  },
  "language_info": {
   "codemirror_mode": {
    "name": "ipython",
    "version": 3
   },
   "file_extension": ".py",
   "mimetype": "text/x-python",
   "name": "python",
   "nbconvert_exporter": "python",
   "pygments_lexer": "ipython3",
   "version": "3.6.1"
  }
 },
 "nbformat": 4,
 "nbformat_minor": 2
}
