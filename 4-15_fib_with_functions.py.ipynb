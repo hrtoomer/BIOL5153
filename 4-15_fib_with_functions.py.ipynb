{
 "cells": [
  {
   "cell_type": "code",
   "execution_count": null,
   "metadata": {
    "collapsed": true
   },
   "outputs": [],
   "source": [
    "# Worked on 4-15-19 in class"
   ]
  },
  {
   "cell_type": "code",
   "execution_count": 1,
   "metadata": {},
   "outputs": [
    {
     "name": "stderr",
     "output_type": "stream",
     "text": [
      "usage: ipykernel_launcher.py [-h] [-v | -s] num\n",
      "ipykernel_launcher.py: error: argument num: invalid int value: '/home/centos/.local/share/jupyter/runtime/kernel-a3575066-b978-4adc-a634-fa5f65762e20.json'\n"
     ]
    },
    {
     "ename": "SystemExit",
     "evalue": "2",
     "output_type": "error",
     "traceback": [
      "An exception has occurred, use %tb to see the full traceback.\n",
      "\u001b[0;31mSystemExit\u001b[0m\u001b[0;31m:\u001b[0m 2\n"
     ]
    },
    {
     "name": "stderr",
     "output_type": "stream",
     "text": [
      "/home/centos/anaconda3/lib/python3.6/site-packages/IPython/core/interactiveshell.py:2889: UserWarning: To exit: use 'exit', 'quit', or Ctrl-D.\n",
      "  warn(\"To exit: use 'exit', 'quit', or Ctrl-D.\", stacklevel=1)\n"
     ]
    }
   ],
   "source": [
    "#! /usr/bin/env python3\n",
    "\n",
    "import argparse\n",
    "\n",
    "def get_args():\n",
    "    # create an argument parser object\n",
    "    parser = argparse.ArgumentParser(description = 'This script returns the Fibonacci number at a specified position in the Fibonacci sequence')\n",
    "\n",
    "    # add positional argument for the input position in the Fibonacci sequence\n",
    "    parser.add_argument(\"num\", help=\"The Fobionacci number you wish to calculate\", type=int)\n",
    "\n",
    "    # add optional arguments\n",
    "    group = parser.add_mutually_exclusive_group()\n",
    "    group.add_argument(\"-v\", \"--verbose\", action=\"store_true\", help=\"print verbose output\")\n",
    "    group.add_argument(\"-s\", \"--simple\", action=\"store_true\", help=\"print simple output (default)\")\n",
    "\n",
    "    # parse the arguments\n",
    "    return parser.parse_args()\n",
    "\n",
    "\n",
    "def fib(n):\n",
    "    # calculate the Fibonacci number\n",
    "    a,b = 0,1\n",
    "\n",
    "    for i in range(n):\n",
    "        a,b = b, a+b\n",
    "\n",
    "    return(a)\n",
    "\n",
    "def print_output(position, fib_num):\n",
    "    # print the desired output\n",
    "    if args.verbose:\n",
    "        # verbose output\n",
    "        print(\"for position\", position, \"the Fibonacci number is\", fib_num)\n",
    "    else:\n",
    "        #simple output\n",
    "        print(str(args.num), fib_num)\n",
    "\n",
    "\n",
    "def main():\n",
    "    fib_num = fib(args.num)\n",
    "    print_output(args.num, fib_num)\n",
    "\n",
    "# get the arguments before calling main\n",
    "args = get_args()\n",
    "\n",
    "\n",
    "# execute the program by calling main\n",
    "if __name__ == \"__main__\":\n",
    "    main()\n"
   ]
  }
 ],
 "metadata": {
  "kernelspec": {
   "display_name": "Python 3",
   "language": "python",
   "name": "python3"
  },
  "language_info": {
   "codemirror_mode": {
    "name": "ipython",
    "version": 3
   },
   "file_extension": ".py",
   "mimetype": "text/x-python",
   "name": "python",
   "nbconvert_exporter": "python",
   "pygments_lexer": "ipython3",
   "version": "3.6.1"
  }
 },
 "nbformat": 4,
 "nbformat_minor": 2
}
