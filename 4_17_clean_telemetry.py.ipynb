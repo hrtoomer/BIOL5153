{
 "cells": [
  {
   "cell_type": "code",
   "execution_count": 1,
   "metadata": {
    "collapsed": true
   },
   "outputs": [],
   "source": [
    "# Work on clean_telemetry on 4-17-19"
   ]
  },
  {
   "cell_type": "code",
   "execution_count": 1,
   "metadata": {
    "collapsed": true
   },
   "outputs": [],
   "source": [
    "import argparse\n",
    "import csv\n",
    "from collections import defaultdict\n",
    "\n",
    "def get_args():\n",
    "    # create an argument parser object\n",
    "    parser = argparse.ArgumentParser(description = 'This script removes false frequency-code pairs for a telemetry file')\n",
    "    # add positional argument for the input position in the Fibonacci sequence\n",
    "    parser.add_argument(\"num\", help=\"The Fobionacci number you wish to calculate\", type=int)\n",
    "    # add optional arguments\n",
    "    group = parser.add_mutually_exclusive_group()\n",
    "    group.add_argument(\"-v\", \"--verbose\", action=\"store_true\", help=\"print verbose output\")\n",
    "    group.add_argument(\"-s\", \"--simple\", action=\"store_true\", help=\"print simple output (default)\")\n",
    "    # parse the arguments\n",
    "    return parser.parse_args()\n",
    "\n",
    "def parse_tags():\n",
    "    # codes dictionary: key = frequency, value = list of real codes\n",
    "    codes = defaultdict(dict)\n",
    "    # open the tags file\n",
    "    with open(args.tags_file, 'r') as tags:\n",
    "        # create a csv reader opject\n",
    "        reader = csv.reader(tags, delimiter='\\t')\n",
    "        # skip the header line\n",
    "        header = next(reader)\n",
    "        # read in the file, line by line\n",
    "        for line in reader:\n",
    "            # skip blank lines\n",
    "            if not line:\n",
    "                continue\n",
    "            else:\n",
    "                if line[0] in codes:\n",
    "                        codes[line[0]].append(line[1])\n",
    "                else:\n",
    "                    codes[line[0]] = []\n",
    "                    codes[line[0]].append(line[1])\n",
    "    return codes\n",
    "\n",
    "def parse_data(code_dict):\n",
    "    # open, read, and parse the telemetry data file\n",
    "    with open(args.data_file, 'r') as data:\n",
    "        for line in data:\n",
    "            row = line.split()\n",
    "            \n",
    "            # skip the header\n",
    "            if row[0] == 'Date':\n",
    "                print(line, end='')\n",
    "                continue\n",
    "            else:\n",
    "                if row[5] in code_dict[row[4]]:\n",
    "                    print(line, end='')\n",
    "                else:\n",
    "                    continue\n",
    "\n",
    "def main():\n",
    "    code_dict = parse_tags()\n",
    "    parse_data(code_dict)\n",
    "\n",
    "# get the arguments before calling main\n",
    "args = get_args()\n",
    "\n",
    "# execute the program by calling main\n",
    "if __name__ == \"__main__\":\n",
    "    main()"
   ]
  },
  {
   "cell_type": "code",
   "execution_count": null,
   "metadata": {
    "collapsed": true
   },
   "outputs": [],
   "source": []
  }
 ],
 "metadata": {
  "kernelspec": {
   "display_name": "Python 3",
   "language": "python",
   "name": "python3"
  },
  "language_info": {
   "codemirror_mode": {
    "name": "ipython",
    "version": 3
   },
   "file_extension": ".py",
   "mimetype": "text/x-python",
   "name": "python",
   "nbconvert_exporter": "python",
   "pygments_lexer": "ipython3",
   "version": "3.6.1"
  }
 },
 "nbformat": 4,
 "nbformat_minor": 2
}
