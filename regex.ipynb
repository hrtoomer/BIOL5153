{
 "cells": [
  {
   "cell_type": "code",
   "execution_count": 1,
   "metadata": {
    "collapsed": true
   },
   "outputs": [],
   "source": [
    "# Created for class on April 22, 2019\n"
   ]
  },
  {
   "cell_type": "code",
   "execution_count": null,
   "metadata": {
    "collapsed": true
   },
   "outputs": [],
   "source": [
    "# '.' matches any character except new line\n",
    "\n",
    "crush  = 'Alicia\\tKeys'\n",
    "print(crush)\n",
    "\n",
    "match = re.search(\"licia\", crush)\n",
    "\n",
    "if match:\n",
    "    print(\"Found a match:\", match.group(0))"
   ]
  },
  {
   "cell_type": "code",
   "execution_count": null,
   "metadata": {
    "collapsed": true
   },
   "outputs": [],
   "source": [
    "match = re.search(r\"(a\\t)\", crush)\n",
    "if match:\n",
    "    print(\"Found another match:\", match.group(1))\n",
    "else:\n",
    "    print(\"No match\")"
   ]
  },
  {
   "cell_type": "code",
   "execution_count": null,
   "metadata": {
    "collapsed": true
   },
   "outputs": [],
   "source": [
    "# Character classes\n",
    "crush = 'Alicia Keys'\n",
    "match = re.search(\"Alicia ([a-zA-Z])\", crush)\n",
    "if match:\n",
    "    print(\"Full match:\", match.group(0))\n",
    "    print(\"Captured:\", match.group(1))\n",
    "else:\n",
    "    print(\"No match\")"
   ]
  },
  {
   "cell_type": "code",
   "execution_count": 2,
   "metadata": {
    "collapsed": true
   },
   "outputs": [],
   "source": [
    "# Modifiers\n",
    "import re\n",
    "\n",
    "crush = 'Alicia Keys'\n",
    "match = re.search(\"alicia\\s+keys\", crush, re.I)\n",
    "if match:\n",
    "    print"
   ]
  },
  {
   "cell_type": "code",
   "execution_count": 5,
   "metadata": {},
   "outputs": [
    {
     "name": "stdout",
     "output_type": "stream",
     "text": [
      "We love Peaches\n"
     ]
    }
   ],
   "source": [
    "# Use variables inside your regular expressions\n",
    "\n",
    "cat1 = 'Peaches'\n",
    "cat2 = 'We love ' + cat1\n",
    "print(cat2)\n",
    "\n",
    "pat = re.compile(cat1)\n",
    "match = pat.search(crush, re.I)\n",
    "if match:\n",
    "    print(match.group(0))"
   ]
  },
  {
   "cell_type": "code",
   "execution_count": 5,
   "metadata": {},
   "outputs": [
    {
     "ename": "SyntaxError",
     "evalue": "invalid syntax (<ipython-input-5-42059155ded9>, line 3)",
     "output_type": "error",
     "traceback": [
      "\u001b[0;36m  File \u001b[0;32m\"<ipython-input-5-42059155ded9>\"\u001b[0;36m, line \u001b[0;32m3\u001b[0m\n\u001b[0;31m    crush = '<BOLD>Holy moly</BOLD>, it's <BOLD>Alicias Keys/BOLD>'\u001b[0m\n\u001b[0m                                        ^\u001b[0m\n\u001b[0;31mSyntaxError\u001b[0m\u001b[0;31m:\u001b[0m invalid syntax\n"
     ]
    }
   ],
   "source": [
    "# *, +, and {} are greedy, they match as much as they possibly can\n",
    "\n",
    "crush = '<BOLD>Holy moly</BOLD>, it's <BOLD>Alicias Keys/BOLD>'\n",
    "match = re.search(\"<BOLD>(.*)</BOLD>\", crush)\n",
    "if match:\n",
    "    print(\"Found a match:\" + \"[\" + match.group(1) + \"]\")\n",
    "else:\n",
    "    print(\"No match:\", match)\n"
   ]
  },
  {
   "cell_type": "code",
   "execution_count": 6,
   "metadata": {},
   "outputs": [],
   "source": [
    "# Write a regular expression for all of the Katherine's\n",
    "# This is an assignemnt that will be due on Wednesday\n",
    "\n",
    "\n",
    "girl= 'somename'\n",
    "if re.search(\"Katherine\", girl):\n",
    "    print('Found a match!')\n",
    "if re.search(\"Katherine\", girl):\n",
    "    print('Found a match!')"
   ]
  },
  {
   "cell_type": "code",
   "execution_count": null,
   "metadata": {
    "collapsed": true
   },
   "outputs": [],
   "source": []
  }
 ],
 "metadata": {
  "kernelspec": {
   "display_name": "Python 3",
   "language": "python",
   "name": "python3"
  },
  "language_info": {
   "codemirror_mode": {
    "name": "ipython",
    "version": 3
   },
   "file_extension": ".py",
   "mimetype": "text/x-python",
   "name": "python",
   "nbconvert_exporter": "python",
   "pygments_lexer": "ipython3",
   "version": "3.6.1"
  }
 },
 "nbformat": 4,
 "nbformat_minor": 2
}
