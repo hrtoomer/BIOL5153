{
 "cells": [
  {
   "cell_type": "code",
   "execution_count": 1,
   "metadata": {
    "collapsed": true
   },
   "outputs": [],
   "source": [
    "# Chapter 4"
   ]
  },
  {
   "cell_type": "code",
   "execution_count": 2,
   "metadata": {},
   "outputs": [
    {
     "name": "stdout",
     "output_type": "stream",
     "text": [
      "processed sequence with length43\n",
      "processed sequence with length38\n",
      "processed sequence with length49\n",
      "processed sequence with length34\n",
      "processed sequence with length48\n"
     ]
    }
   ],
   "source": [
    "# Processing DNA in a file\n",
    "file = open('input.txt')\n",
    "\n",
    "output=open('trimmed.txt','w')\n",
    "\n",
    "for dna in file:\n",
    "    last_character_position = len(dna)\n",
    "    trimmed_dna=dna[14:last_character_position]\n",
    "    output.write(trimmed_dna)\n",
    "    print('processed sequence with length' + str(len(trimmed_dna)))"
   ]
  },
  {
   "cell_type": "code",
   "execution_count": 8,
   "metadata": {},
   "outputs": [],
   "source": [
    "# Multiple exons from genomic DNA\n",
    "\n",
    "genomic_dna = open('genomic_dna.txt').read()\n",
    "\n",
    "exon_locations = open('exons.txt')\n",
    "\n",
    "coding_sequence=\"\"\n",
    "\n",
    "for line in exon_locations:\n",
    "    positions = line.split(',')\n",
    "    start = int(positions[0])\n",
    "    stop=int(positions[1])\n",
    "    exon=genomic_dna[start:stop]\n",
    "    coding_sequence=coding_sequence + exon\n",
    "    \n",
    "    output= open('coding_sequence.txt','w')\n",
    "    output.write(coding_sequence)\n",
    "    output.close()"
   ]
  },
  {
   "cell_type": "code",
   "execution_count": null,
   "metadata": {
    "collapsed": true
   },
   "outputs": [],
   "source": []
  }
 ],
 "metadata": {
  "kernelspec": {
   "display_name": "Python 3",
   "language": "python",
   "name": "python3"
  },
  "language_info": {
   "codemirror_mode": {
    "name": "ipython",
    "version": 3
   },
   "file_extension": ".py",
   "mimetype": "text/x-python",
   "name": "python",
   "nbconvert_exporter": "python",
   "pygments_lexer": "ipython3",
   "version": "3.6.1"
  }
 },
 "nbformat": 4,
 "nbformat_minor": 2
}
