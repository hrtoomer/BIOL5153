{
 "cells": [
  {
   "cell_type": "code",
   "execution_count": 24,
   "metadata": {
    "collapsed": true
   },
   "outputs": [],
   "source": [
    "# declare the file name\n",
    "filename = 'blood_on_the_tracks.txt'\n",
    "\n",
    "# open the file\n",
    "# infile = open(filename, 'r')\n",
    "infile=open(filename,'r')"
   ]
  },
  {
   "cell_type": "code",
   "execution_count": 25,
   "metadata": {
    "collapsed": true
   },
   "outputs": [],
   "source": [
    "# declare a list\n",
    "songs =[]\n",
    "\n",
    "# read in the file line by line\n",
    "for beyonce in infile:\n",
    "    beyonce = beyonce.rstrip('\\n')\n",
    "    songs.append(beyonce)\n",
    "    \n",
    "    #infile.close()\n"
   ]
  },
  {
   "cell_type": "code",
   "execution_count": 26,
   "metadata": {},
   "outputs": [
    {
     "name": "stdout",
     "output_type": "stream",
     "text": [
      "1. Tangled Up in Blue\n",
      "2. Simple Twist of Fate\n",
      "3. You're a Big Girl Now\n",
      "4. Idiot Wind\n",
      "5. You're Gonna Make Me Lonesome When You Go\n",
      "6. Meet Me in the Morning\n",
      "7. Lily, Rosemary and the Jack of Hearts\n",
      "8. If You See Her, Say Hello\n",
      "9. Shelter from the Storm\n",
      "10. Buckets of Rain\n"
     ]
    }
   ],
   "source": [
    "# print the track list\n",
    "track_number =1\n",
    "\n",
    "for track in songs:\n",
    "    print(str(track_number) + '. ' + track)\n",
    "    track_number += 1"
   ]
  },
  {
   "cell_type": "code",
   "execution_count": 21,
   "metadata": {},
   "outputs": [
    {
     "name": "stdout",
     "output_type": "stream",
     "text": [
      "There are 10 songs on this album\n"
     ]
    }
   ],
   "source": [
    "# print number of songs\n",
    "print('There are ' + str(len(songs)) + ' songs on this album')"
   ]
  },
  {
   "cell_type": "code",
   "execution_count": 30,
   "metadata": {},
   "outputs": [
    {
     "name": "stdout",
     "output_type": "stream",
     "text": [
      "I d i o t   W i n d "
     ]
    }
   ],
   "source": [
    "# let's loop over every character in a song\n",
    "\n",
    "track_index =3\n",
    "\n",
    "for char in songs[track_index]:\n",
    "    print(char, end=' ')"
   ]
  },
  {
   "cell_type": "code",
   "execution_count": 33,
   "metadata": {},
   "outputs": [
    {
     "name": "stdout",
     "output_type": "stream",
     "text": [
      "T a n g l e d   U p   i n   B l u e \n",
      "S i m p l e   T w i s t   o f   F a t e \n",
      "Y o u ' r e   a   B i g   G i r l   N o w \n",
      "I d i o t   W i n d \n",
      "Y o u ' r e   G o n n a   M a k e   M e   L o n e s o m e   W h e n   Y o u   G o \n",
      "M e e t   M e   i n   t h e   M o r n i n g \n",
      "L i l y ,   R o s e m a r y   a n d   t h e   J a c k   o f   H e a r t s \n",
      "I f   Y o u   S e e   H e r ,   S a y   H e l l o \n",
      "S h e l t e r   f r o m   t h e   S t o r m \n",
      "B u c k e t s   o f   R a i n \n"
     ]
    }
   ],
   "source": [
    "# let's loop over every song in the album and add that special character\n",
    "track_number =1\n",
    "\n",
    "for track in songs:\n",
    "    for char in track:\n",
    "        print(char, end=' ')\n",
    "    print()"
   ]
  },
  {
   "cell_type": "code",
   "execution_count": 2,
   "metadata": {
    "collapsed": true
   },
   "outputs": [],
   "source": [
    "# splitting strings\n",
    "my_data= 'watermelon, genbank, 1, 100, 100, ., other stuff'\n",
    "fields= my_data.split(', ')"
   ]
  },
  {
   "cell_type": "code",
   "execution_count": 8,
   "metadata": {},
   "outputs": [
    {
     "name": "stdout",
     "output_type": "stream",
     "text": [
      "1 100\n"
     ]
    }
   ],
   "source": [
    "print(fields[2], fields[3])\n"
   ]
  },
  {
   "cell_type": "code",
   "execution_count": 14,
   "metadata": {
    "collapsed": true
   },
   "outputs": [],
   "source": [
    "gene='ATCGATCGtccccggactgacATCGATCGACTGA'"
   ]
  },
  {
   "cell_type": "code",
   "execution_count": 15,
   "metadata": {},
   "outputs": [
    {
     "name": "stdout",
     "output_type": "stream",
     "text": [
      "ATCGATCGt\n",
      "ccccggactgac\n",
      "ATCGATCGACTGA\n"
     ]
    }
   ],
   "source": [
    "exon1=gene[0:9]\n",
    "print(exon1)\n",
    "intron=gene[9:21]\n",
    "print(intron)\n",
    "exon2= gene[21:]\n",
    "print(exon2)"
   ]
  },
  {
   "cell_type": "code",
   "execution_count": 16,
   "metadata": {},
   "outputs": [
    {
     "name": "stdout",
     "output_type": "stream",
     "text": [
      "ATCGATCGtATCGATCGACTGA\n"
     ]
    }
   ],
   "source": [
    "cds = exon1 + exon2\n",
    "print(cds)"
   ]
  },
  {
   "cell_type": "code",
   "execution_count": null,
   "metadata": {
    "collapsed": true
   },
   "outputs": [],
   "source": []
  }
 ],
 "metadata": {
  "kernelspec": {
   "display_name": "Python 3",
   "language": "python",
   "name": "python3"
  },
  "language_info": {
   "codemirror_mode": {
    "name": "ipython",
    "version": 3
   },
   "file_extension": ".py",
   "mimetype": "text/x-python",
   "name": "python",
   "nbconvert_exporter": "python",
   "pygments_lexer": "ipython3",
   "version": "3.6.1"
  }
 },
 "nbformat": 4,
 "nbformat_minor": 2
}
