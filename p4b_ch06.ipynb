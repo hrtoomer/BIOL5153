{
 "cells": [
  {
   "cell_type": "code",
   "execution_count": 9,
   "metadata": {},
   "outputs": [
    {
     "name": "stdout",
     "output_type": "stream",
     "text": [
      "kdy647\n",
      "jdg766\n",
      "kdy533\n"
     ]
    }
   ],
   "source": [
    "# Several Species\n",
    "\n",
    "data = open('data.csv')\n",
    "for line in data:\n",
    "    columns=line.rstrip('\\n').split(',')\n",
    "    species = columns[0]\n",
    "    sequence = columns[1]\n",
    "    name= columns[2]\n",
    "    expression = columns[3]\n",
    "    if species == 'Drosophila melanogaster' or species == 'Drosophila simulans':\n",
    "        print(name)"
   ]
  },
  {
   "cell_type": "code",
   "execution_count": 10,
   "metadata": {},
   "outputs": [
    {
     "name": "stdout",
     "output_type": "stream",
     "text": [
      "kdy647\n",
      "teg436\n"
     ]
    }
   ],
   "source": [
    "# Length range\n",
    "\n",
    "data = open('data.csv')\n",
    "for line in data:\n",
    "    columns = line.rstrip('\\n').split(',')\n",
    "    species = columns[0]\n",
    "    sequence = columns[1]\n",
    "    name= columns[2]\n",
    "    expression = columns[3]\n",
    "    if len(sequence) > 90 and len(sequence) < 110:\n",
    "        print(name)"
   ]
  },
  {
   "cell_type": "code",
   "execution_count": 13,
   "metadata": {},
   "outputs": [
    {
     "ename": "TypeError",
     "evalue": "'>' not supported between instances of 'str' and 'int'",
     "output_type": "error",
     "traceback": [
      "\u001b[0;31m---------------------------------------------------------------------------\u001b[0m",
      "\u001b[0;31mTypeError\u001b[0m                                 Traceback (most recent call last)",
      "\u001b[0;32m<ipython-input-13-80de8e99ec83>\u001b[0m in \u001b[0;36m<module>\u001b[0;34m()\u001b[0m\n\u001b[1;32m     15\u001b[0m     \u001b[0mname\u001b[0m\u001b[0;34m=\u001b[0m \u001b[0mcolumns\u001b[0m\u001b[0;34m[\u001b[0m\u001b[0;36m2\u001b[0m\u001b[0;34m]\u001b[0m\u001b[0;34m\u001b[0m\u001b[0m\n\u001b[1;32m     16\u001b[0m     \u001b[0mexpression\u001b[0m \u001b[0;34m=\u001b[0m \u001b[0mcolumns\u001b[0m\u001b[0;34m[\u001b[0m\u001b[0;36m3\u001b[0m\u001b[0;34m]\u001b[0m\u001b[0;34m\u001b[0m\u001b[0m\n\u001b[0;32m---> 17\u001b[0;31m     \u001b[0;32mif\u001b[0m \u001b[0mget_at_content\u001b[0m\u001b[0;34m(\u001b[0m\u001b[0msequence\u001b[0m\u001b[0;34m)\u001b[0m \u001b[0;34m<\u001b[0m \u001b[0;36m0.5\u001b[0m \u001b[0;32mand\u001b[0m \u001b[0mexpression\u001b[0m \u001b[0;34m>\u001b[0m \u001b[0;36m200\u001b[0m\u001b[0;34m:\u001b[0m\u001b[0;34m\u001b[0m\u001b[0m\n\u001b[0m\u001b[1;32m     18\u001b[0m         \u001b[0mprint\u001b[0m\u001b[0;34m(\u001b[0m\u001b[0mname\u001b[0m\u001b[0;34m)\u001b[0m\u001b[0;34m\u001b[0m\u001b[0m\n",
      "\u001b[0;31mTypeError\u001b[0m: '>' not supported between instances of 'str' and 'int'"
     ]
    }
   ],
   "source": [
    "# AT Content\n",
    "\n",
    "def get_at_content(dna):\n",
    "    length=len(dna)\n",
    "    a_count=dna.upper().count('A')\n",
    "    t_count=dna.upper().count('T')\n",
    "    at_content = (a_count + t_count) / length\n",
    "    return at_content\n",
    "\n",
    "data= open('data.csv')\n",
    "for line in data:\n",
    "    columns = line.rstrip('\\n').split(',')\n",
    "    species = columns[0]\n",
    "    sequence = columns[1]\n",
    "    name= columns[2]\n",
    "    expression = columns[3]\n",
    "    if get_at_content(sequence) < 0.5 and expression > 200:\n",
    "        print(name)"
   ]
  },
  {
   "cell_type": "code",
   "execution_count": 14,
   "metadata": {},
   "outputs": [
    {
     "ename": "SyntaxError",
     "evalue": "invalid syntax (<ipython-input-14-1ba3a6f7ea8c>, line 10)",
     "output_type": "error",
     "traceback": [
      "\u001b[0;36m  File \u001b[0;32m\"<ipython-input-14-1ba3a6f7ea8c>\"\u001b[0;36m, line \u001b[0;32m10\u001b[0m\n\u001b[0;31m    if (name.startswith('k') or name.startswith('h') and species !='Drosophila melanogaster':)\u001b[0m\n\u001b[0m                                                                                            ^\u001b[0m\n\u001b[0;31mSyntaxError\u001b[0m\u001b[0;31m:\u001b[0m invalid syntax\n"
     ]
    }
   ],
   "source": [
    "# Complex condition\n",
    "\n",
    "data= open('data.csv')\n",
    "for line in data:\n",
    "    columns = line.rstrip('\\n').split(',')\n",
    "    species = columns[0]\n",
    "    sequence = columns[1]\n",
    "    name= columns[2]\n",
    "    expression = columns[3]\n",
    "    if (name.startswith('k') or name.startswith('h') and species !='Drosophila melanogaster':)\n",
    "        print(name)"
   ]
  },
  {
   "cell_type": "code",
   "execution_count": 15,
   "metadata": {},
   "outputs": [
    {
     "name": "stdout",
     "output_type": "stream",
     "text": [
      "kdy647has high AT content\n",
      "jdg766 has medium AT content\n",
      "kdy533 has medium AT content\n",
      "hdt739has low AT content\n",
      "hdu045 has medium AT content\n",
      "teg436 has medium AT content\n"
     ]
    }
   ],
   "source": [
    "# High low medium\n",
    "\n",
    "def get_at_content(dna):\n",
    "    length=len(dna)\n",
    "    a_count=dna.upper().count('A')\n",
    "    t_count=dna.upper().count('T')\n",
    "    at_content = (a_count + t_count) / length\n",
    "    return at_content\n",
    "\n",
    "data= open('data.csv')\n",
    "for line in data:\n",
    "    columns = line.rstrip('\\n').split(',')\n",
    "    species = columns[0]\n",
    "    sequence = columns[1]\n",
    "    name= columns[2]\n",
    "    expression = columns[3]\n",
    "    if get_at_content(sequence) > 0.65:\n",
    "        print(name + 'has high AT content')\n",
    "    elif get_at_content(sequence) < 0.45:\n",
    "        print(name + 'has low AT content')\n",
    "    else:\n",
    "        print(name + ' has medium AT content')"
   ]
  },
  {
   "cell_type": "code",
   "execution_count": null,
   "metadata": {
    "collapsed": true
   },
   "outputs": [],
   "source": []
  }
 ],
 "metadata": {
  "kernelspec": {
   "display_name": "Python 3",
   "language": "python",
   "name": "python3"
  },
  "language_info": {
   "codemirror_mode": {
    "name": "ipython",
    "version": 3
   },
   "file_extension": ".py",
   "mimetype": "text/x-python",
   "name": "python",
   "nbconvert_exporter": "python",
   "pygments_lexer": "ipython3",
   "version": "3.6.1"
  }
 },
 "nbformat": 4,
 "nbformat_minor": 2
}
